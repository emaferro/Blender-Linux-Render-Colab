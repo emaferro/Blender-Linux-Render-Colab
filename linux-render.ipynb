{
 "cells": [
  {
   "cell_type": "code",
   "execution_count": null,
   "metadata": {},
   "outputs": [],
   "source": [
    "\"\"\"\n",
    "function ClickConnect(){\n",
    "    console.log(\"Working\");\n",
    "    document.querySelector(\"#top-toolbar > colab-connect-button\").shadowRoot.querySelector(\"#connect\").click();\n",
    "}\n",
    "setInterval(ClickConnect,60000)\n",
    "\"\"\""
   ]
  },
  {
   "cell_type": "code",
   "execution_count": null,
   "metadata": {},
   "outputs": [],
   "source": [
    "#Connect Google Drive to Google Colab\n",
    "#=====================================\n",
    "from google.colab import drive # type: ignore\n",
    "drive.mount('/content/drive')"
   ]
  },
  {
   "cell_type": "code",
   "execution_count": null,
   "metadata": {},
   "outputs": [],
   "source": [
    "#Download Blender from Blender Repository.\n",
    "#Other Versions are here: https://download.blender.org/release/\n",
    "#=====================================\n",
    "!wget https://builder.blender.org/download/daily/blender-4.2.0-alpha+main.d960b922b311-linux.x86_64-release.tar.xz\n"
   ]
  },
  {
   "cell_type": "code",
   "execution_count": null,
   "metadata": {},
   "outputs": [],
   "source": [
    "#Unzip Blender\n",
    "#=====================================\n",
    "!tar xf blender-4.2.0-alpha+main.d960b922b311-linux.x86_64-release.tar.xz"
   ]
  },
  {
   "cell_type": "code",
   "execution_count": null,
   "metadata": {},
   "outputs": [],
   "source": [
    "#Path of Blender File to be Rendered\n",
    "#===========================\n",
    "filename = '/content/drive/MyDrive/render/sardina.blend'"
   ]
  },
  {
   "cell_type": "code",
   "execution_count": null,
   "metadata": {},
   "outputs": [],
   "source": [
    "#Deletes the Default libtcmalloc-minimal4 version and installs the Ubuntu default version\n",
    "import os\n",
    "\n",
    "os.environ[\"LD_PRELOAD\"] = \"\"\n",
    "\n",
    "#Deletes wrong Version of libtcmalloc-minimal4\n",
    "!apt remove libtcmalloc-minimal4\n",
    "#Installs correct version of libtcmalloc-minimal4\n",
    "!apt install libtcmalloc-minimal4"
   ]
  },
  {
   "cell_type": "code",
   "execution_count": null,
   "metadata": {},
   "outputs": [],
   "source": [
    "#Adds this library to the user environment\n",
    "os.environ[\"LD_PRELOAD\"] = \"/usr/lib/x86_64-linux-gnu/libtcmalloc_minimal.so.4.3.0\"\n",
    "\n",
    "!./blender-4.2.0-alpha+main.d960b922b311-linux.x86_64-release/blender -P 'gpu.py' -b $filename -noaudio -E 'CYCLES' --debug-all -o \"/content/drive/MyDrive/render/sardina_####\" -s 1 -e 1 -a -F 'PNG' -- --cycles-device CUDA"
   ]
  }
 ],
 "metadata": {
  "kernelspec": {
   "display_name": "Python 3",
   "language": "python",
   "name": "python3"
  },
  "language_info": {
   "name": "python",
   "version": "3.11.9"
  }
 },
 "nbformat": 4,
 "nbformat_minor": 2
}
